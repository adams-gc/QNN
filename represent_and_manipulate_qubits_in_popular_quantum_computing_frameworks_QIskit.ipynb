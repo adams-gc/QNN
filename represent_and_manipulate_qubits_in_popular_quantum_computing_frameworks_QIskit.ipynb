{
  "nbformat": 4,
  "nbformat_minor": 0,
  "metadata": {
    "colab": {
      "provenance": [],
      "authorship_tag": "ABX9TyP5CkMfYy6e9Rx/5F+MNVaP",
      "include_colab_link": true
    },
    "kernelspec": {
      "name": "python3",
      "display_name": "Python 3"
    },
    "language_info": {
      "name": "python"
    }
  },
  "cells": [
    {
      "cell_type": "markdown",
      "metadata": {
        "id": "view-in-github",
        "colab_type": "text"
      },
      "source": [
        "<a href=\"https://colab.research.google.com/github/adams-gc/QNN/blob/main/represent_and_manipulate_qubits_in_popular_quantum_computing_frameworks_QIskit.ipynb\" target=\"_parent\"><img src=\"https://colab.research.google.com/assets/colab-badge.svg\" alt=\"Open In Colab\"/></a>"
      ]
    },
    {
      "cell_type": "code",
      "execution_count": null,
      "metadata": {
        "id": "LmTF-NfbI9Kt"
      },
      "outputs": [],
      "source": [
        "# Import the NumPy library, commonly used for numerical operations,\n",
        "# especially with arrays and complex numbers, which are essential for quantum mechanics.\n",
        "import numpy as np"
      ]
    },
    {
      "cell_type": "markdown",
      "source": [
        "\n",
        "# 1. Define computational basis states |0> and |1> as column vectors\n",
        "# 2. In quantum mechanics, quantum states are often represented as vectors in a complex vector space.\n",
        "# 3. The basis states |0⟩ and |1⟩ form a standard orthonormal basis for a single qubit.\n",
        "\n",
        "# 4. ket_0 represents the quantum state |0⟩.\n",
        "# 5. It's a 2x1 column vector, typically defined as [[1], [0]].\n",
        "# 6. dtype=complex ensures that the array can store complex numbers, which are fundamental for quantum amplitudes.\n",
        "\n"
      ],
      "metadata": {
        "id": "RXenCWmxJyvd"
      }
    },
    {
      "cell_type": "code",
      "source": [
        "ket_0 = np.array([[1],\n",
        "                  [0]], dtype=complex)\n",
        "\n",
        "# ket_1 represents the quantum state |1⟩.\n",
        "# It's a 2x1 column vector, typically defined as [[0], [1]].\n",
        "# dtype=complex ensures it can store complex numbers.\n",
        "ket_1 = np.array([[0],\n",
        "                  [1]], dtype=complex)\n",
        "print(\"Basis states:\") # Print a header to indicate the output of the basis states.\n",
        "print(\"|0> =\\n\", ket_0) # Print the vector representation of the |0⟩ state. '\\n' adds a newline for formatting.\n",
        "print(\"|1> =\\n\", ket_1) # Print the vector representation of the |1⟩ state.\n"
      ],
      "metadata": {
        "colab": {
          "base_uri": "https://localhost:8080/"
        },
        "id": "1QZUU4SVJnkd",
        "outputId": "69f7b9f0-3aff-4cd6-e994-95fdaddef0e2"
      },
      "execution_count": null,
      "outputs": [
        {
          "output_type": "stream",
          "name": "stdout",
          "text": [
            "Basis states:\n",
            "|0> =\n",
            " [[1.+0.j]\n",
            " [0.+0.j]]\n",
            "|1> =\n",
            " [[0.+0.j]\n",
            " [1.+0.j]]\n"
          ]
        }
      ]
    },
    {
      "cell_type": "code",
      "source": [
        "# Define complex probability amplitudes alpha and beta\n",
        "# These are the complex coefficients that determine the probability of measuring the qubit\n",
        "# in either the |0⟩ or |1⟩ state.\n",
        "# They satisfy the normalization condition: |alpha|^2 + |beta|^2 = 1.\n",
        "\n",
        "# Example: equal superposition (Hadamard-like state)\n",
        "# This is a common state where the qubit has an equal probability (50%) of being measured as 0 or 1.\n",
        "# For this state, alpha and beta are both 1/sqrt(2).\n",
        "\n",
        "alpha = 1 / np.sqrt(2)   # Assign the real coefficient for the |0⟩ component.\n",
        "                         # np.sqrt(2) calculates the square root of 2.\n",
        "beta = 1 / np.sqrt(2)    # Assign the real coefficient for the |1⟩ component.\n"
      ],
      "metadata": {
        "id": "rNoy5snzKj8I"
      },
      "execution_count": null,
      "outputs": []
    },
    {
      "cell_type": "code",
      "source": [
        "print(alpha,beta)"
      ],
      "metadata": {
        "colab": {
          "base_uri": "https://localhost:8080/"
        },
        "id": "DcaJjVpmTY4W",
        "outputId": "1a351120-23aa-4c52-aa3a-8eae0dfcbbf6"
      },
      "execution_count": null,
      "outputs": [
        {
          "output_type": "stream",
          "name": "stdout",
          "text": [
            "0.7071067811865475 0.7071067811865475\n"
          ]
        }
      ]
    },
    {
      "cell_type": "code",
      "source": [
        "\n",
        "# Create a general qubit |psi> = alpha|0> + beta|1>\n",
        "# This line implements the mathematical form of a qubit state in superposition.\n",
        "# It's a linear combination of the basis states, weighted by their respective complex amplitudes.\n",
        "# 'alpha * ket_0' scales the |0⟩ vector by alpha.\n",
        "# 'beta * ket_1' scales the |1⟩ vector by beta.\n",
        "# The '+' operator performs vector addition.\n",
        "psi = alpha * ket_0 + beta * ket_1\n",
        "\n",
        "print(\"\\nQubit state |psi> = alpha|0> + beta|1>:\") # Print a header for the qubit state.\n",
        "print(psi) # Print the resulting 2x1 column vector representing the qubit's state |ψ⟩.\n"
      ],
      "metadata": {
        "colab": {
          "base_uri": "https://localhost:8080/"
        },
        "id": "XgisYyr0TiZk",
        "outputId": "6658049b-9dea-41c1-aefd-150660b93d20"
      },
      "execution_count": null,
      "outputs": [
        {
          "output_type": "stream",
          "name": "stdout",
          "text": [
            "\n",
            "Qubit state |psi> = alpha|0> + beta|1>:\n",
            "[[0.70710678+0.j]\n",
            " [0.70710678+0.j]]\n"
          ]
        }
      ]
    },
    {
      "cell_type": "code",
      "source": [
        "# Verify normalization: |alpha|^2 + |beta|^2 should be 1\n",
        "# This is a crucial check to ensure the quantum state is physically valid.\n",
        "# The sum of the probabilities of all possible outcomes must equal 1.\n",
        "\n",
        "# np.abs(alpha)**2 calculates the squared magnitude (absolute value squared) of alpha.\n",
        "# For a real number, this is simply alpha * alpha. For a complex number z, it's z * conjugate(z).\n",
        "# This value represents the probability of measuring the qubit in the |0⟩ state.\n",
        "# Similarly for beta, np.abs(beta)**2 is the probability of measuring the qubit in the |1⟩ state.\n",
        "norm = np.abs(alpha)**2 + np.abs(beta)**2\n",
        "print(\"\\nNormalization check: |alpha|^2 + |beta|^2 =\", norm) # Print the calculated normalization value.\n",
        "                                                           # It should be very close to 1.0.\n"
      ],
      "metadata": {
        "colab": {
          "base_uri": "https://localhost:8080/"
        },
        "id": "COGrk9VOTriP",
        "outputId": "ddeb603f-eb94-4eda-dbd9-b987a9657d1b"
      },
      "execution_count": null,
      "outputs": [
        {
          "output_type": "stream",
          "name": "stdout",
          "text": [
            "\n",
            "Normalization check: |alpha|^2 + |beta|^2 = 0.9999999999999998\n"
          ]
        }
      ]
    },
    {
      "cell_type": "code",
      "source": [
        "# Example: normalize arbitrary (non-normalized) amplitudes\n",
        "# Sometimes, you might have raw amplitudes that don't sum to 1 when squared.\n",
        "# This section demonstrates how to normalize them to create a valid quantum state.\n",
        "\n",
        "alpha_non_norm = 0.6 + 0.3j # Define a complex number for alpha that is not yet normalized.\n",
        "                            # 'j' denotes the imaginary unit in Python.\n",
        "beta_non_norm = 0.4 - 0.5j  # Define a complex number for beta that is not yet normalized.\n",
        "print(\"\\nNon-normalized amplitudes:\")\n",
        "print(\"alpha =\", alpha_non_norm)\n",
        "print(\"beta =\", beta_non_norm)"
      ],
      "metadata": {
        "colab": {
          "base_uri": "https://localhost:8080/"
        },
        "id": "sUaLkH5oTx6V",
        "outputId": "fe0d8c5b-738c-4127-d101-110925381f13"
      },
      "execution_count": null,
      "outputs": [
        {
          "output_type": "stream",
          "name": "stdout",
          "text": [
            "\n",
            "Non-normalized amplitudes:\n",
            "alpha = (0.6+0.3j)\n",
            "beta = (0.4-0.5j)\n"
          ]
        }
      ]
    },
    {
      "cell_type": "code",
      "source": [
        "# Calculate the normalization factor. This factor is the square root of the sum of the\n",
        "# squared magnitudes of the non-normalized amplitudes.\n",
        "# Dividing each amplitude by this factor will ensure the new amplitudes satisfy the normalization condition.\n",
        "norm_val = np.sqrt(np.abs(alpha_non_norm)**2 + np.abs(beta_non_norm)**2)\n",
        "print(\"\\nNormalization factor (norm_val) =\", norm_val)"
      ],
      "metadata": {
        "colab": {
          "base_uri": "https://localhost:8080/"
        },
        "id": "lguMS8W0T2-C",
        "outputId": "1f2b33fb-27c8-4380-a9f8-33a4230e026b"
      },
      "execution_count": null,
      "outputs": [
        {
          "output_type": "stream",
          "name": "stdout",
          "text": [
            "\n",
            "Normalization factor (norm_val) = 0.9273618495495705\n"
          ]
        }
      ]
    },
    {
      "cell_type": "code",
      "source": [
        "\n",
        "# Normalize amplitudes\n",
        "alpha_norm = alpha_non_norm / norm_val # Divide the non-normalized alpha by the normalization factor.\n",
        "beta_norm = beta_non_norm / norm_val   # Divide the non-normalized beta by the normalization factor.\n",
        "print(alpha_norm)\n",
        "print(beta_norm)"
      ],
      "metadata": {
        "colab": {
          "base_uri": "https://localhost:8080/"
        },
        "id": "SYqbprARUG2K",
        "outputId": "b4cbe42a-afdf-4efc-b694-8f4e3207d6e0"
      },
      "execution_count": null,
      "outputs": [
        {
          "output_type": "stream",
          "name": "stdout",
          "text": [
            "(0.6469966392206304+0.3234983196103152j)\n",
            "(0.43133109281375365-0.539163866017192j)\n"
          ]
        }
      ]
    },
    {
      "cell_type": "code",
      "source": [
        "\n",
        "# Create the qubit state vector using the newly normalized amplitudes.\n",
        "psi_custom = alpha_norm * ket_0 + beta_norm * ket_1\n",
        "\n",
        "print(\"\\nCustom normalized qubit state:\") # Print a header for the custom qubit state.\n",
        "print(psi_custom) # Print the vector representation of the custom normalized qubit state.\n",
        "\n",
        "print(\"\\nVerification of custom state's normalization:\", # Print a header for verifying the custom state's normalization.\n",
        "      np.abs(alpha_norm)**2 + np.abs(beta_norm)**2) # Calculate and print the normalization for the custom state.\n",
        "                                                     # This should also be very close to 1.0.\n"
      ],
      "metadata": {
        "colab": {
          "base_uri": "https://localhost:8080/"
        },
        "id": "v3s-EkJFUQTc",
        "outputId": "ea725faf-6e15-443b-eaf7-f08b9126f5dc"
      },
      "execution_count": null,
      "outputs": [
        {
          "output_type": "stream",
          "name": "stdout",
          "text": [
            "\n",
            "Custom normalized qubit state:\n",
            "[[0.64699664+0.32349832j]\n",
            " [0.43133109-0.53916387j]]\n",
            "\n",
            "Verification of custom state's normalization: 0.9999999999999999\n"
          ]
        }
      ]
    },
    {
      "cell_type": "code",
      "source": [
        "!apt-get install git\n",
        "\n"
      ],
      "metadata": {
        "colab": {
          "base_uri": "https://localhost:8080/"
        },
        "id": "ZM-7IOIv2WrJ",
        "outputId": "1db4ae4f-c58a-4971-f8ee-543c8412415a"
      },
      "execution_count": 3,
      "outputs": [
        {
          "output_type": "stream",
          "name": "stdout",
          "text": [
            "Reading package lists... Done\n",
            "Building dependency tree... Done\n",
            "Reading state information... Done\n",
            "git is already the newest version (1:2.34.1-1ubuntu1.15).\n",
            "0 upgraded, 0 newly installed, 0 to remove and 35 not upgraded.\n"
          ]
        }
      ]
    },
    {
      "cell_type": "code",
      "source": [
        "!git clone git@github.com:adams-gc/QNN.git"
      ],
      "metadata": {
        "id": "8ifxEgAMUao5",
        "colab": {
          "base_uri": "https://localhost:8080/"
        },
        "outputId": "5ef53c80-70a5-4a2c-a6be-4aa82d56cc71"
      },
      "execution_count": 4,
      "outputs": [
        {
          "output_type": "stream",
          "name": "stdout",
          "text": [
            "Cloning into 'QNN'...\n",
            "Host key verification failed.\r\n",
            "fatal: Could not read from remote repository.\n",
            "\n",
            "Please make sure you have the correct access rights\n",
            "and the repository exists.\n"
          ]
        }
      ]
    },
    {
      "cell_type": "code",
      "source": [],
      "metadata": {
        "id": "KqLQuwz-4FwT"
      },
      "execution_count": null,
      "outputs": []
    }
  ]
}